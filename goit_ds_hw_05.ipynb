{
  "nbformat": 4,
  "nbformat_minor": 0,
  "metadata": {
    "colab": {
      "provenance": [],
      "authorship_tag": "ABX9TyPN/PqGai8UcziSUxKHehD4"
    },
    "kernelspec": {
      "name": "python3",
      "display_name": "Python 3"
    },
    "language_info": {
      "name": "python"
    }
  },
  "cells": [
    {
      "cell_type": "markdown",
      "source": [
        "Напишіть функцію гіпотези лінійної регресії у векторному вигляді."
      ],
      "metadata": {
        "id": "yEJI2gc-h3KQ"
      }
    },
    {
      "cell_type": "code",
      "execution_count": null,
      "metadata": {
        "id": "mE0ngu9wdtIM"
      },
      "outputs": [],
      "source": [
        "import numpy as np\n",
        "\n",
        "def hypothesis(X, w):\n",
        "    return X @ w\n"
      ]
    },
    {
      "cell_type": "markdown",
      "source": [
        "Створіть функцію для обчислення функції втрат у векторному вигляді."
      ],
      "metadata": {
        "id": "Qg7HH_ipiApe"
      }
    },
    {
      "cell_type": "code",
      "source": [
        "def cost_function(X, y, w):\n",
        "    m = len(y)\n",
        "    error = hypothesis(X, w) - y\n",
        "    return (1 / (2 * m)) * (error.T @ error)"
      ],
      "metadata": {
        "id": "nb1ZaM5UiHRV"
      },
      "execution_count": null,
      "outputs": []
    },
    {
      "cell_type": "markdown",
      "source": [
        "Реалізуйте один крок градієнтного спуску."
      ],
      "metadata": {
        "id": "ffpFuyMUiN_o"
      }
    },
    {
      "cell_type": "code",
      "source": [
        "def gradient_step(X, y, w, alpha):\n",
        "    m = len(y)\n",
        "    gradient = (1 / m) * (X.T @ (hypothesis(X, w) - y))\n",
        "    return w - alpha * gradient"
      ],
      "metadata": {
        "id": "8Eb5KiNKiRej"
      },
      "execution_count": null,
      "outputs": []
    },
    {
      "cell_type": "markdown",
      "source": [
        "Знайдіть найкращі параметри w для датасету використовуючи написані вами функції, прогнозуючу ціну на будинок залежно від площі, кількості ванних кімнат та кількості спалень."
      ],
      "metadata": {
        "id": "KjGYLRgiiZjB"
      }
    },
    {
      "cell_type": "code",
      "source": [
        "X = np.array([\n",
        "    [2100, 2, 3],\n",
        "    [1600, 1, 2],\n",
        "    [2400, 3, 4],\n",
        "    [1400, 1, 2],\n",
        "    [3000, 4, 5]\n",
        "], dtype=float)\n",
        "\n",
        "# Ціни\n",
        "y = np.array([400000, 330000, 450000, 290000, 540000], dtype=float)\n",
        "\n",
        "X_b = np.c_[np.ones((X.shape[0], 1)), X]\n",
        "\n",
        "w = np.zeros(X_b.shape[1])\n",
        "\n",
        "alpha = 0.00000001   # крок навчання\n",
        "iterations = 10000   # кількість ітерацій\n",
        "\n",
        "for _ in range(iterations):\n",
        "    w = gradient_step(X_b, y, w, alpha)\n",
        "\n",
        "print(\"градієнтний спуск: \", w)\n"
      ],
      "metadata": {
        "colab": {
          "base_uri": "https://localhost:8080/"
        },
        "id": "1iCf3yviinJT",
        "outputId": "7738fb2d-1c24-4fe4-cf56-d0c054ba74a6"
      },
      "execution_count": null,
      "outputs": [
        {
          "output_type": "stream",
          "name": "stdout",
          "text": [
            "градієнтний спуск:  [  0.6239269  188.85722458  -0.90552105  -0.28159415]\n"
          ]
        }
      ]
    },
    {
      "cell_type": "markdown",
      "source": [
        "Знайдіть ці ж параметри за допомогою аналітичного рішення."
      ],
      "metadata": {
        "id": "_21wNlzijBmg"
      }
    },
    {
      "cell_type": "code",
      "source": [
        "w_normal = np.linalg.pinv(X_b.T @ X_b) @ (X_b.T @ y)\n",
        "\n",
        "print(\"аналітичне рішення:\", w_normal)"
      ],
      "metadata": {
        "colab": {
          "base_uri": "https://localhost:8080/"
        },
        "id": "XP7-IsECjGC7",
        "outputId": "f265d2af-ada5-4a30-a910-a0c30a63dcd5"
      },
      "execution_count": null,
      "outputs": [
        {
          "output_type": "stream",
          "name": "stdout",
          "text": [
            "аналітичне рішення: [ 45114.50381044    167.93893131 -25954.19847342  19160.30533884]\n"
          ]
        }
      ]
    },
    {
      "cell_type": "markdown",
      "source": [
        "Для перевірки спрогнозованих значень, використайте LinearRegression з бібліотеки scikit-learn та порівняйте результати."
      ],
      "metadata": {
        "id": "aGauulwQjl92"
      }
    },
    {
      "cell_type": "code",
      "source": [
        "from sklearn.linear_model import LinearRegression\n",
        "\n",
        "model = LinearRegression()\n",
        "model.fit(X, y)\n",
        "\n",
        "print(\"Параметри (sklearn):\", [model.intercept_, *model.coef_])"
      ],
      "metadata": {
        "colab": {
          "base_uri": "https://localhost:8080/"
        },
        "id": "vkDauRBAjqM6",
        "outputId": "cee15ebb-0462-45d5-de27-1cbc15d99805"
      },
      "execution_count": null,
      "outputs": [
        {
          "output_type": "stream",
          "name": "stdout",
          "text": [
            "Параметри (sklearn): [np.float64(67671.7557251908), np.float64(167.93893129770998), np.float64(-3396.946564885515), np.float64(-3396.9465648855144)]\n"
          ]
        }
      ]
    }
  ]
}