{
  "nbformat": 4,
  "nbformat_minor": 0,
  "metadata": {
    "colab": {
      "provenance": [],
      "authorship_tag": "ABX9TyOiAXvg3+15tJEngTFfpINb"
    },
    "kernelspec": {
      "name": "python3",
      "display_name": "Python 3"
    },
    "language_info": {
      "name": "python"
    }
  },
  "cells": [
    {
      "cell_type": "markdown",
      "source": [
        "Напишіть функцію гіпотези лінійної регресії у векторному вигляді."
      ],
      "metadata": {
        "id": "yEJI2gc-h3KQ"
      }
    },
    {
      "cell_type": "code",
      "execution_count": 17,
      "metadata": {
        "id": "mE0ngu9wdtIM"
      },
      "outputs": [],
      "source": [
        "import numpy as np\n",
        "\n",
        "def hypothesis(X, w):\n",
        "    return X @ w\n"
      ]
    },
    {
      "cell_type": "markdown",
      "source": [
        "Створіть функцію для обчислення функції втрат у векторному вигляді."
      ],
      "metadata": {
        "id": "Qg7HH_ipiApe"
      }
    },
    {
      "cell_type": "code",
      "source": [
        "def cost_function(X, y, w):\n",
        "    m = len(y)\n",
        "    error = hypothesis(X, w) - y\n",
        "    return (1 / (2 * m)) * (error.T @ error)"
      ],
      "metadata": {
        "id": "nb1ZaM5UiHRV"
      },
      "execution_count": 18,
      "outputs": []
    },
    {
      "cell_type": "markdown",
      "source": [
        "Реалізуйте один крок градієнтного спуску."
      ],
      "metadata": {
        "id": "ffpFuyMUiN_o"
      }
    },
    {
      "cell_type": "code",
      "source": [
        "def gradient_step(X, y, w, alpha):\n",
        "    m = len(y)\n",
        "    gradient = (1 / m) * (X.T @ (hypothesis(X, w) - y))\n",
        "    return w - alpha * gradient"
      ],
      "metadata": {
        "id": "8Eb5KiNKiRej"
      },
      "execution_count": 19,
      "outputs": []
    },
    {
      "cell_type": "markdown",
      "source": [
        "Знайдіть найкращі параметри w для датасету використовуючи написані вами функції, прогнозуючу ціну на будинок залежно від площі, кількості ванних кімнат та кількості спалень."
      ],
      "metadata": {
        "id": "KjGYLRgiiZjB"
      }
    },
    {
      "cell_type": "code",
      "source": [
        "import pandas as pd\n",
        "import numpy as np\n",
        "\n",
        "url = f\"https://drive.google.com/uc?id=1-rAa4XT4_fI0dOBlMNuE6a7jB0wln_Qo\"\n",
        "\n",
        "df = pd.read_csv(url)\n",
        "\n",
        "X = df[['area','bathrooms','bedrooms']].values.astype(float)\n",
        "y = df['price'].values.astype(float)\n",
        "m = X.shape[0]\n",
        "\n",
        "mu = X.mean(axis=0); sigma = X.std(axis=0, ddof=0)\n",
        "sigma_safe = np.where(sigma==0, 1.0, sigma)\n",
        "X_scaled = (X - mu) / sigma_safe\n",
        "\n",
        "Xb_scaled = np.c_[np.ones((m,1)), X_scaled]\n",
        "Xb_orig = np.c_[np.ones((m,1)), X]\n",
        "\n",
        "\n",
        "alpha = 0.01\n",
        "iterations = 5000\n",
        "\n",
        "w_scaled = np.zeros(Xb_scaled.shape[1])\n",
        "for i in range(iterations):\n",
        "    w_scaled = gradient_step(Xb_scaled, y, w_scaled, alpha)\n",
        "\n",
        "w_orig = np.zeros_like(w_scaled)\n",
        "w_orig[1:] = w_scaled[1:] / sigma_safe\n",
        "w_orig[0]   = w_scaled[0] - np.sum((w_scaled[1:] * mu) / sigma_safe)\n",
        "\n",
        "print(\"градієнтний спуск у початковій шкалі:\")\n",
        "for name, val in zip(['intercept','area','bathrooms','bedrooms'], w_orig):\n",
        "    print(f\"{name:10s}: {val:.6f}\")\n",
        "\n",
        "\n"
      ],
      "metadata": {
        "colab": {
          "base_uri": "https://localhost:8080/"
        },
        "id": "1iCf3yviinJT",
        "outputId": "bc6c0c69-f2e7-4feb-8beb-408ad577e278"
      },
      "execution_count": 20,
      "outputs": [
        {
          "output_type": "stream",
          "name": "stdout",
          "text": [
            "градієнтний спуск у початковій шкалі:\n",
            "intercept : -173171.607633\n",
            "area      : 378.762754\n",
            "bathrooms : 1386049.497791\n",
            "bedrooms  : 406820.033769\n"
          ]
        }
      ]
    },
    {
      "cell_type": "markdown",
      "source": [
        "Знайдіть ці ж параметри за допомогою аналітичного рішення."
      ],
      "metadata": {
        "id": "_21wNlzijBmg"
      }
    },
    {
      "cell_type": "code",
      "source": [
        "Xb = np.c_[np.ones((m, 1)), X]\n",
        "w_analytical = np.linalg.pinv(Xb.T @ Xb) @ Xb.T @ y\n",
        "\n",
        "print(\"Аналітичне рішення (Normal Equation):\")\n",
        "print(f\"w0 (intercept) = {w_analytical[0]:.6f}\")\n",
        "print(f\"w_area         = {w_analytical[1]:.6f}\")\n",
        "print(f\"w_bathrooms    = {w_analytical[2]:.6f}\")\n",
        "print(f\"w_bedrooms     = {w_analytical[3]:.6f}\")"
      ],
      "metadata": {
        "colab": {
          "base_uri": "https://localhost:8080/"
        },
        "id": "XP7-IsECjGC7",
        "outputId": "04ec9ad7-f361-4c74-c5a4-e86a542b2b83"
      },
      "execution_count": 21,
      "outputs": [
        {
          "output_type": "stream",
          "name": "stdout",
          "text": [
            "Аналітичне рішення (Normal Equation):\n",
            "w0 (intercept) = -173171.607560\n",
            "w_area         = 378.762754\n",
            "w_bathrooms    = 1386049.497784\n",
            "w_bedrooms     = 406820.033753\n"
          ]
        }
      ]
    },
    {
      "cell_type": "markdown",
      "source": [
        "Для перевірки спрогнозованих значень, використайте LinearRegression з бібліотеки scikit-learn та порівняйте результати."
      ],
      "metadata": {
        "id": "aGauulwQjl92"
      }
    },
    {
      "cell_type": "code",
      "source": [
        "from sklearn.linear_model import LinearRegression\n",
        "\n",
        "linreg = LinearRegression().fit(X, y)\n",
        "\n",
        "print(\"Перевірка sklearn LinearRegression:\")\n",
        "print(f\"intercept = {linreg.intercept_:.6f}\")\n",
        "print(f\"coef_area = {linreg.coef_[0]:.6f}\")\n",
        "print(f\"coef_bathrooms = {linreg.coef_[1]:.6f}\")\n",
        "print(f\"coef_bedrooms  = {linreg.coef_[2]:.6f}\")"
      ],
      "metadata": {
        "colab": {
          "base_uri": "https://localhost:8080/"
        },
        "id": "vkDauRBAjqM6",
        "outputId": "85a05ec4-9bc2-4480-b5f0-3ef667f6c207"
      },
      "execution_count": 22,
      "outputs": [
        {
          "output_type": "stream",
          "name": "stdout",
          "text": [
            "Перевірка sklearn LinearRegression:\n",
            "intercept = -173171.607633\n",
            "coef_area = 378.762754\n",
            "coef_bathrooms = 1386049.497791\n",
            "coef_bedrooms  = 406820.033769\n"
          ]
        }
      ]
    }
  ]
}